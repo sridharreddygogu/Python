{
 "cells": [
  {
   "cell_type": "markdown",
   "metadata": {},
   "source": [
    "\n",
    "## Name: Sridhar Reddy Gogu\n",
    "## Subject: [Bootcamp 2.0 | Python Programming  Assignment No. 1]:"
   ]
  },
  {
   "cell_type": "markdown",
   "metadata": {},
   "source": [
    "1. Write a Python program to print &quot;Hello Python&quot;?\n",
    "2. Write a Python program to do arithmetical operations addition and division.?\n",
    "3. Write a Python program to find the area of a triangle?\n",
    "4. Write a Python program to swap two variables?\n",
    "5. Write a Python program to generate a random number?"
   ]
  },
  {
   "cell_type": "markdown",
   "metadata": {},
   "source": [
    "# 1. Write a Python program to print \"Hello Python\"?"
   ]
  },
  {
   "cell_type": "code",
   "execution_count": 1,
   "metadata": {},
   "outputs": [
    {
     "name": "stdout",
     "output_type": "stream",
     "text": [
      "Hello Python\n"
     ]
    }
   ],
   "source": [
    "print ('Hello Python')"
   ]
  },
  {
   "cell_type": "markdown",
   "metadata": {},
   "source": [
    "# 2. Write a Python program to do arithmetical operations addition and division.?"
   ]
  },
  {
   "cell_type": "code",
   "execution_count": 3,
   "metadata": {},
   "outputs": [
    {
     "name": "stdout",
     "output_type": "stream",
     "text": [
      "Enter operand1: 20\n",
      "Enter operand2: 5\n",
      "Sum of Two numbers is: 25, Division of Two numbers is: 4.0\n"
     ]
    }
   ],
   "source": [
    "X = int(input(\"Enter operand1: \"))\n",
    "Y = int(input(\"Enter operand2: \"))\n",
    "Sum = X+Y\n",
    "Div = X/Y\n",
    "print (f\"Sum of Two numbers is: {Sum}, Division of Two numbers is: {Div}\")"
   ]
  },
  {
   "cell_type": "markdown",
   "metadata": {},
   "source": [
    "# 3. Write a Python program to find the area of a triangle?"
   ]
  },
  {
   "cell_type": "code",
   "execution_count": 6,
   "metadata": {},
   "outputs": [
    {
     "name": "stdout",
     "output_type": "stream",
     "text": [
      "Input the base : 10\n",
      "Input the height : 20\n",
      "area =  100.0\n"
     ]
    }
   ],
   "source": [
    "# Python Program to find the area of triangle\n",
    "\n",
    "b = int(input(\"Input the base : \"))\n",
    "h = int(input(\"Input the height : \"))\n",
    "\n",
    "area = b*h/2\n",
    "\n",
    "print(\"area = \", area)"
   ]
  },
  {
   "cell_type": "markdown",
   "metadata": {},
   "source": [
    "# 4. Write a Python program to swap two variables?"
   ]
  },
  {
   "cell_type": "code",
   "execution_count": 8,
   "metadata": {},
   "outputs": [
    {
     "name": "stdout",
     "output_type": "stream",
     "text": [
      "Enter value of x: 10\n",
      "Enter value of y: 20\n",
      "The value of x after swapping: 20\n",
      "The value of y after swapping: 10\n"
     ]
    }
   ],
   "source": [
    "# Python program to swap two variables\n",
    "# take inputs from the user\n",
    "x = input('Enter value of x: ')\n",
    "y = input('Enter value of y: ')\n",
    "\n",
    "# create a temporary variable and swap the values\n",
    "temp = x\n",
    "x = y\n",
    "y = temp\n",
    "\n",
    "print (f\"The value of x after swapping: {x}\")\n",
    "print (f\"The value of y after swapping: {y}\")"
   ]
  },
  {
   "cell_type": "markdown",
   "metadata": {},
   "source": [
    "# 5. Write a Python program to generate a random number?"
   ]
  },
  {
   "cell_type": "code",
   "execution_count": 10,
   "metadata": {},
   "outputs": [
    {
     "name": "stdout",
     "output_type": "stream",
     "text": [
      "333\n"
     ]
    }
   ],
   "source": [
    "import random  \n",
    "n = random.randint(1, 1000)  \n",
    "print(n)  "
   ]
  }
 ],
 "metadata": {
  "kernelspec": {
   "display_name": "Python 3",
   "language": "python",
   "name": "python3"
  },
  "language_info": {
   "codemirror_mode": {
    "name": "ipython",
    "version": 3
   },
   "file_extension": ".py",
   "mimetype": "text/x-python",
   "name": "python",
   "nbconvert_exporter": "python",
   "pygments_lexer": "ipython3",
   "version": "3.7.6"
  }
 },
 "nbformat": 4,
 "nbformat_minor": 4
}
