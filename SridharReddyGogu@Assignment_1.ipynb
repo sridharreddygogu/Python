{
  "nbformat": 4,
  "nbformat_minor": 0,
  "metadata": {
    "colab": {
      "provenance": [],
      "collapsed_sections": []
    },
    "kernelspec": {
      "name": "python3",
      "display_name": "Python 3"
    },
    "language_info": {
      "name": "python"
    }
  },
  "cells": [
    {
      "cell_type": "markdown",
      "source": [
        "# ASSIGNMENTS - 1\n",
        "\n",
        "## send the mail to\n",
        "\n",
        "## send it before 0000 hrs IST | 12 AM tonight\n",
        "## Special cases respond atleast before 1200 hrs IST tomorrow i.e Monday\n",
        "\n",
        "TO: query@ineuron.ai CC: sunny@ineuron.ai, riishav@ineuron.ai, boktiar@ineuron.ai\n",
        "\n",
        "Subject: [Bootcamp 2.0 | Assignment No. 1]:\n",
        "\n",
        "\n",
        "1.   Find out all the types of error that we have encountered in our lecture and why? Also include the examples.\n",
        "2.   Take input A and B and print their sum, mul, div, square of the nos.\n",
        "3. How many reserve keywords are there in python and why we should not use them as a variable name.\n",
        "4. Create email ids with the user inputs. in the following format - lastname.firstname@gmail.com\n",
        "5. Try to print the following lines -\n",
        "  * My address is 22\\3\n",
        "  * I earn 20$ daily.\n",
        "6. Take user input (name, address, date of birth etc) to fill a form for your college and print their email IDs\n",
        "7. Convert the following -\n",
        "  * \"22.4\" into 22\n",
        "  * \"22\" into complex no."
      ],
      "metadata": {
        "id": "wsF-bGOFmS9G"
      }
    },
    {
      "cell_type": "markdown",
      "source": [
        "# 1. Find out all the types of error that we have encountered in our lecture and why? Also include the examples."
      ],
      "metadata": {
        "id": "viwv7GB9n6Zv"
      }
    },
    {
      "cell_type": "markdown",
      "source": [
        "# Error 1"
      ],
      "metadata": {
        "id": "JXUsZv20qYrd"
      }
    },
    {
      "cell_type": "code",
      "source": [
        "AVG = 10\n",
        "avg = 20\n",
        "# AVG and avg both are different in terms of lowercase and uppercase letter"
      ],
      "metadata": {
        "id": "s0TSTirijqXz"
      },
      "execution_count": 1,
      "outputs": []
    },
    {
      "cell_type": "code",
      "source": [
        "print(Avg) # trying to print the variable which is not defined, we will get name is not defined error "
      ],
      "metadata": {
        "colab": {
          "base_uri": "https://localhost:8080/",
          "height": 182
        },
        "id": "GrGRfc71jsxc",
        "outputId": "ed5be6c5-6540-4d55-d529-eb79cc9a5090"
      },
      "execution_count": 3,
      "outputs": [
        {
          "output_type": "error",
          "ename": "NameError",
          "evalue": "ignored",
          "traceback": [
            "\u001b[0;31m---------------------------------------------------------------------------\u001b[0m",
            "\u001b[0;31mNameError\u001b[0m                                 Traceback (most recent call last)",
            "\u001b[0;32m<ipython-input-3-1d92cf567929>\u001b[0m in \u001b[0;36m<module>\u001b[0;34m\u001b[0m\n\u001b[0;32m----> 1\u001b[0;31m \u001b[0mprint\u001b[0m\u001b[0;34m(\u001b[0m\u001b[0mAvg\u001b[0m\u001b[0;34m)\u001b[0m \u001b[0;31m# trying to print the variable which is not defined, we will get name is not defined error\u001b[0m\u001b[0;34m\u001b[0m\u001b[0;34m\u001b[0m\u001b[0m\n\u001b[0m",
            "\u001b[0;31mNameError\u001b[0m: name 'Avg' is not defined"
          ]
        }
      ]
    },
    {
      "cell_type": "markdown",
      "source": [
        "# Error 2"
      ],
      "metadata": {
        "id": "WByXV67hqfci"
      }
    },
    {
      "cell_type": "code",
      "source": [
        "print = 10 # defined print as a variable\n",
        "type(print)"
      ],
      "metadata": {
        "colab": {
          "base_uri": "https://localhost:8080/"
        },
        "id": "edlC_pBQjs0d",
        "outputId": "9debbec2-b68a-45de-a079-5d4be3492984"
      },
      "execution_count": 4,
      "outputs": [
        {
          "output_type": "execute_result",
          "data": {
            "text/plain": [
              "int"
            ]
          },
          "metadata": {},
          "execution_count": 4
        }
      ]
    },
    {
      "cell_type": "code",
      "source": [
        "print(\"Hello iNeuron\") # when ever we call print method it will through error, because we used reserved keyword as variable "
      ],
      "metadata": {
        "colab": {
          "base_uri": "https://localhost:8080/",
          "height": 182
        },
        "id": "K__yK0n5js31",
        "outputId": "0c7d97a9-4c49-4b84-89c5-b409917c1e40"
      },
      "execution_count": 6,
      "outputs": [
        {
          "output_type": "error",
          "ename": "TypeError",
          "evalue": "ignored",
          "traceback": [
            "\u001b[0;31m---------------------------------------------------------------------------\u001b[0m",
            "\u001b[0;31mTypeError\u001b[0m                                 Traceback (most recent call last)",
            "\u001b[0;32m<ipython-input-6-a5cb80b85d4b>\u001b[0m in \u001b[0;36m<module>\u001b[0;34m\u001b[0m\n\u001b[0;32m----> 1\u001b[0;31m \u001b[0mprint\u001b[0m\u001b[0;34m(\u001b[0m\u001b[0;34m\"Hello iNeuron\"\u001b[0m\u001b[0;34m)\u001b[0m \u001b[0;31m# when ever we call print method it will through error, because we used reserved keyword as variable\u001b[0m\u001b[0;34m\u001b[0m\u001b[0;34m\u001b[0m\u001b[0m\n\u001b[0m",
            "\u001b[0;31mTypeError\u001b[0m: 'int' object is not callable"
          ]
        }
      ]
    },
    {
      "cell_type": "code",
      "source": [
        "del print"
      ],
      "metadata": {
        "id": "AQQAPzKtjs6z"
      },
      "execution_count": 7,
      "outputs": []
    },
    {
      "cell_type": "code",
      "source": [
        "print(\"hello\")"
      ],
      "metadata": {
        "colab": {
          "base_uri": "https://localhost:8080/"
        },
        "id": "T1HYF8c6js9j",
        "outputId": "3b494e8d-1c56-4bcf-d074-8dc696ab913c"
      },
      "execution_count": 8,
      "outputs": [
        {
          "output_type": "stream",
          "name": "stdout",
          "text": [
            "hello\n"
          ]
        }
      ]
    },
    {
      "cell_type": "markdown",
      "source": [
        "# Error 3"
      ],
      "metadata": {
        "id": "n-7Y7FmQqj8C"
      }
    },
    {
      "cell_type": "code",
      "source": [
        "a, b, c = 10 # multi assignment variables, we can't assign a sigle value value to multiple variables with this syntax  "
      ],
      "metadata": {
        "colab": {
          "base_uri": "https://localhost:8080/",
          "height": 182
        },
        "id": "iLy_vjbbqqC_",
        "outputId": "4f9a2245-21de-4166-ea71-f8cfb63151ce"
      },
      "execution_count": 36,
      "outputs": [
        {
          "output_type": "error",
          "ename": "TypeError",
          "evalue": "ignored",
          "traceback": [
            "\u001b[0;31m---------------------------------------------------------------------------\u001b[0m",
            "\u001b[0;31mTypeError\u001b[0m                                 Traceback (most recent call last)",
            "\u001b[0;32m<ipython-input-36-75a617104aab>\u001b[0m in \u001b[0;36m<module>\u001b[0;34m\u001b[0m\n\u001b[0;32m----> 1\u001b[0;31m \u001b[0ma\u001b[0m\u001b[0;34m,\u001b[0m \u001b[0mb\u001b[0m\u001b[0;34m,\u001b[0m \u001b[0mc\u001b[0m \u001b[0;34m=\u001b[0m \u001b[0;36m10\u001b[0m \u001b[0;31m# multi assignment variables, we can't assign a sigle value value to multiple variables with this syntax\u001b[0m\u001b[0;34m\u001b[0m\u001b[0;34m\u001b[0m\u001b[0m\n\u001b[0m",
            "\u001b[0;31mTypeError\u001b[0m: cannot unpack non-iterable int object"
          ]
        }
      ]
    },
    {
      "cell_type": "code",
      "source": [
        "a=b=c=10 # correct way of assigning"
      ],
      "metadata": {
        "id": "q1ilhlyu26BI"
      },
      "execution_count": 35,
      "outputs": []
    },
    {
      "cell_type": "markdown",
      "source": [
        "# Error 4"
      ],
      "metadata": {
        "id": "ze-OXNAr3K8k"
      }
    },
    {
      "cell_type": "code",
      "source": [
        "# calcualte the age of the user\n",
        "\n",
        "name = input(\"Name: \") # always gives you string values\n",
        "place = input(\"place: \")\n",
        "year_of_birth = input(\"year_of_birth: \") # gives string value\n",
        "\n",
        "age = 2022 - year_of_birth # it will through error, (int-string) computation is performing, type conversion required\n",
        "\n",
        "print(f\"\"\"\n",
        "My name is: {name}\n",
        "I live at: {place}\n",
        "{name} is of age: {age}\n",
        "\"\"\")"
      ],
      "metadata": {
        "colab": {
          "base_uri": "https://localhost:8080/",
          "height": 287
        },
        "id": "6DdfDmGK3Obj",
        "outputId": "483dc16f-5faf-4869-a427-75ff314ccb4d"
      },
      "execution_count": 37,
      "outputs": [
        {
          "name": "stdout",
          "output_type": "stream",
          "text": [
            "Name: Sridhar\n",
            "place: Hyderabad\n",
            "year_of_birth: 1990\n"
          ]
        },
        {
          "output_type": "error",
          "ename": "TypeError",
          "evalue": "ignored",
          "traceback": [
            "\u001b[0;31m---------------------------------------------------------------------------\u001b[0m",
            "\u001b[0;31mTypeError\u001b[0m                                 Traceback (most recent call last)",
            "\u001b[0;32m<ipython-input-37-2eec01983159>\u001b[0m in \u001b[0;36m<module>\u001b[0;34m\u001b[0m\n\u001b[1;32m      5\u001b[0m \u001b[0myear_of_birth\u001b[0m \u001b[0;34m=\u001b[0m \u001b[0minput\u001b[0m\u001b[0;34m(\u001b[0m\u001b[0;34m\"year_of_birth: \"\u001b[0m\u001b[0;34m)\u001b[0m\u001b[0;34m\u001b[0m\u001b[0;34m\u001b[0m\u001b[0m\n\u001b[1;32m      6\u001b[0m \u001b[0;34m\u001b[0m\u001b[0m\n\u001b[0;32m----> 7\u001b[0;31m \u001b[0mage\u001b[0m \u001b[0;34m=\u001b[0m \u001b[0;36m2022\u001b[0m \u001b[0;34m-\u001b[0m \u001b[0myear_of_birth\u001b[0m\u001b[0;34m\u001b[0m\u001b[0;34m\u001b[0m\u001b[0m\n\u001b[0m\u001b[1;32m      8\u001b[0m \u001b[0;34m\u001b[0m\u001b[0m\n\u001b[1;32m      9\u001b[0m print(f\"\"\"\n",
            "\u001b[0;31mTypeError\u001b[0m: unsupported operand type(s) for -: 'int' and 'str'"
          ]
        }
      ]
    },
    {
      "cell_type": "code",
      "source": [
        "# calcualte the age of the user\n",
        "\n",
        "name = input(\"Name: \") # always gives you string values\n",
        "place = input(\"place: \")\n",
        "year_of_birth = int(input(\"year_of_birth: \")) # convert this into integer\n",
        "\n",
        "age = 2022 - year_of_birth\n",
        "\n",
        "print(f\"\"\"\n",
        "My name is: {name}\n",
        "I live at: {place}\n",
        "{name} is of age: {age}\n",
        "\"\"\")"
      ],
      "metadata": {
        "colab": {
          "base_uri": "https://localhost:8080/"
        },
        "id": "2-2Xx7eO3_Sb",
        "outputId": "1269373a-a633-404c-d842-0624dbadfcaa"
      },
      "execution_count": 38,
      "outputs": [
        {
          "output_type": "stream",
          "name": "stdout",
          "text": [
            "Name: Sridhar\n",
            "place: Hyderabad\n",
            "year_of_birth: 1990\n",
            "\n",
            "My name is: Sridhar\n",
            "I live at: Hyderabad\n",
            "Sridhar is of age: 32\n",
            "\n"
          ]
        }
      ]
    },
    {
      "cell_type": "markdown",
      "source": [
        "# Error 5"
      ],
      "metadata": {
        "id": "UYFUC_X64Sox"
      }
    },
    {
      "cell_type": "code",
      "source": [
        "int x # in python need not to specify datatype"
      ],
      "metadata": {
        "colab": {
          "base_uri": "https://localhost:8080/",
          "height": 130
        },
        "id": "Nzd5HrHv4V6e",
        "outputId": "c6c897ce-99e8-4c49-b471-5b6ca79b3018"
      },
      "execution_count": 39,
      "outputs": [
        {
          "output_type": "error",
          "ename": "SyntaxError",
          "evalue": "ignored",
          "traceback": [
            "\u001b[0;36m  File \u001b[0;32m\"<ipython-input-39-cff66ed421b0>\"\u001b[0;36m, line \u001b[0;32m1\u001b[0m\n\u001b[0;31m    int x\u001b[0m\n\u001b[0m        ^\u001b[0m\n\u001b[0;31mSyntaxError\u001b[0m\u001b[0;31m:\u001b[0m invalid syntax\n"
          ]
        }
      ]
    },
    {
      "cell_type": "markdown",
      "source": [
        "## Error **6**"
      ],
      "metadata": {
        "id": "lgrYSJmV49gl"
      }
    },
    {
      "cell_type": "code",
      "source": [
        "A = float(input(\"Enter value of A: \"))\n",
        "B = int(input(\"Enter value of B: \")) # 10.2 is float but converting to int\n",
        "\n",
        "print(f\"Sum of A and B is: {A+B}\")"
      ],
      "metadata": {
        "colab": {
          "base_uri": "https://localhost:8080/",
          "height": 252
        },
        "id": "S9Z6Uaet48x4",
        "outputId": "09473a55-617c-47ee-ddfb-42930e00e69d"
      },
      "execution_count": 40,
      "outputs": [
        {
          "name": "stdout",
          "output_type": "stream",
          "text": [
            "Enter value of A: 10.2\n",
            "Enter value of B: 20.2\n"
          ]
        },
        {
          "output_type": "error",
          "ename": "ValueError",
          "evalue": "ignored",
          "traceback": [
            "\u001b[0;31m---------------------------------------------------------------------------\u001b[0m",
            "\u001b[0;31mValueError\u001b[0m                                Traceback (most recent call last)",
            "\u001b[0;32m<ipython-input-40-476a8e264fdf>\u001b[0m in \u001b[0;36m<module>\u001b[0;34m\u001b[0m\n\u001b[1;32m      1\u001b[0m \u001b[0mA\u001b[0m \u001b[0;34m=\u001b[0m \u001b[0mfloat\u001b[0m\u001b[0;34m(\u001b[0m\u001b[0minput\u001b[0m\u001b[0;34m(\u001b[0m\u001b[0;34m\"Enter value of A: \"\u001b[0m\u001b[0;34m)\u001b[0m\u001b[0;34m)\u001b[0m\u001b[0;34m\u001b[0m\u001b[0;34m\u001b[0m\u001b[0m\n\u001b[0;32m----> 2\u001b[0;31m \u001b[0mB\u001b[0m \u001b[0;34m=\u001b[0m \u001b[0mint\u001b[0m\u001b[0;34m(\u001b[0m\u001b[0minput\u001b[0m\u001b[0;34m(\u001b[0m\u001b[0;34m\"Enter value of B: \"\u001b[0m\u001b[0;34m)\u001b[0m\u001b[0;34m)\u001b[0m \u001b[0;31m# 10.2 is float but converting to int\u001b[0m\u001b[0;34m\u001b[0m\u001b[0;34m\u001b[0m\u001b[0m\n\u001b[0m\u001b[1;32m      3\u001b[0m \u001b[0;34m\u001b[0m\u001b[0m\n\u001b[1;32m      4\u001b[0m \u001b[0mprint\u001b[0m\u001b[0;34m(\u001b[0m\u001b[0;34mf\"Sum of A and B is: {A+B}\"\u001b[0m\u001b[0;34m)\u001b[0m\u001b[0;34m\u001b[0m\u001b[0;34m\u001b[0m\u001b[0m\n",
            "\u001b[0;31mValueError\u001b[0m: invalid literal for int() with base 10: '20.2'"
          ]
        }
      ]
    },
    {
      "cell_type": "code",
      "source": [
        "# String to integer\n",
        "A = \"50.22\" # entering float\n",
        "print(f\"data type before: {type(A)}, value of A: {A}\")\n",
        "A = int(A) # trying to convert into integer\n",
        "print(f\"data type after: {type(A)}, value of A: {A}\")"
      ],
      "metadata": {
        "colab": {
          "base_uri": "https://localhost:8080/",
          "height": 235
        },
        "id": "JZQ63v0v5cQu",
        "outputId": "3a30a657-1174-4d62-ac4b-f1f44f1fe1b0"
      },
      "execution_count": 41,
      "outputs": [
        {
          "output_type": "stream",
          "name": "stdout",
          "text": [
            "data type before: <class 'str'>, value of A: 50.22\n"
          ]
        },
        {
          "output_type": "error",
          "ename": "ValueError",
          "evalue": "ignored",
          "traceback": [
            "\u001b[0;31m---------------------------------------------------------------------------\u001b[0m",
            "\u001b[0;31mValueError\u001b[0m                                Traceback (most recent call last)",
            "\u001b[0;32m<ipython-input-41-44a89d3a265f>\u001b[0m in \u001b[0;36m<module>\u001b[0;34m\u001b[0m\n\u001b[1;32m      2\u001b[0m \u001b[0mA\u001b[0m \u001b[0;34m=\u001b[0m \u001b[0;34m\"50.22\"\u001b[0m \u001b[0;31m# entering float\u001b[0m\u001b[0;34m\u001b[0m\u001b[0;34m\u001b[0m\u001b[0m\n\u001b[1;32m      3\u001b[0m \u001b[0mprint\u001b[0m\u001b[0;34m(\u001b[0m\u001b[0;34mf\"data type before: {type(A)}, value of A: {A}\"\u001b[0m\u001b[0;34m)\u001b[0m\u001b[0;34m\u001b[0m\u001b[0;34m\u001b[0m\u001b[0m\n\u001b[0;32m----> 4\u001b[0;31m \u001b[0mA\u001b[0m \u001b[0;34m=\u001b[0m \u001b[0mint\u001b[0m\u001b[0;34m(\u001b[0m\u001b[0mA\u001b[0m\u001b[0;34m)\u001b[0m \u001b[0;31m# trying to convert into integer\u001b[0m\u001b[0;34m\u001b[0m\u001b[0;34m\u001b[0m\u001b[0m\n\u001b[0m\u001b[1;32m      5\u001b[0m \u001b[0mprint\u001b[0m\u001b[0;34m(\u001b[0m\u001b[0;34mf\"data type after: {type(A)}, value of A: {A}\"\u001b[0m\u001b[0;34m)\u001b[0m\u001b[0;34m\u001b[0m\u001b[0;34m\u001b[0m\u001b[0m\n",
            "\u001b[0;31mValueError\u001b[0m: invalid literal for int() with base 10: '50.22'"
          ]
        }
      ]
    },
    {
      "cell_type": "code",
      "source": [
        "# empty string to int\n",
        "A = \"\"\n",
        "print(f\"data type before: {type(A)}, value of A: {A}\")\n",
        "A = int(A)\n",
        "print(f\"data type after: {type(A)}, value of A: {A}\")"
      ],
      "metadata": {
        "colab": {
          "base_uri": "https://localhost:8080/",
          "height": 235
        },
        "id": "qCLHm-Zv5r7s",
        "outputId": "108cbf6d-4124-42de-9efc-915412d22ac9"
      },
      "execution_count": 42,
      "outputs": [
        {
          "output_type": "stream",
          "name": "stdout",
          "text": [
            "data type before: <class 'str'>, value of A: \n"
          ]
        },
        {
          "output_type": "error",
          "ename": "ValueError",
          "evalue": "ignored",
          "traceback": [
            "\u001b[0;31m---------------------------------------------------------------------------\u001b[0m",
            "\u001b[0;31mValueError\u001b[0m                                Traceback (most recent call last)",
            "\u001b[0;32m<ipython-input-42-a8248b2f88e9>\u001b[0m in \u001b[0;36m<module>\u001b[0;34m\u001b[0m\n\u001b[1;32m      2\u001b[0m \u001b[0mA\u001b[0m \u001b[0;34m=\u001b[0m \u001b[0;34m\"\"\u001b[0m\u001b[0;34m\u001b[0m\u001b[0;34m\u001b[0m\u001b[0m\n\u001b[1;32m      3\u001b[0m \u001b[0mprint\u001b[0m\u001b[0;34m(\u001b[0m\u001b[0;34mf\"data type before: {type(A)}, value of A: {A}\"\u001b[0m\u001b[0;34m)\u001b[0m\u001b[0;34m\u001b[0m\u001b[0;34m\u001b[0m\u001b[0m\n\u001b[0;32m----> 4\u001b[0;31m \u001b[0mA\u001b[0m \u001b[0;34m=\u001b[0m \u001b[0mint\u001b[0m\u001b[0;34m(\u001b[0m\u001b[0mA\u001b[0m\u001b[0;34m)\u001b[0m\u001b[0;34m\u001b[0m\u001b[0;34m\u001b[0m\u001b[0m\n\u001b[0m\u001b[1;32m      5\u001b[0m \u001b[0mprint\u001b[0m\u001b[0;34m(\u001b[0m\u001b[0;34mf\"data type after: {type(A)}, value of A: {A}\"\u001b[0m\u001b[0;34m)\u001b[0m\u001b[0;34m\u001b[0m\u001b[0;34m\u001b[0m\u001b[0m\n",
            "\u001b[0;31mValueError\u001b[0m: invalid literal for int() with base 10: ''"
          ]
        }
      ]
    },
    {
      "cell_type": "markdown",
      "source": [
        "# 2. Take input A and B and print their sum, mul, div, square of the nos."
      ],
      "metadata": {
        "id": "OHz84Hg5juOv"
      }
    },
    {
      "cell_type": "code",
      "source": [
        "A = int(input(\"Enter value of A: \"))\n",
        "B = int(input(\"Enter value of B: \"))\n",
        "\n",
        "print(f\"Sum of A and B is: {A+B}\")\n",
        "print(f\"Multification of A and B is: {A*B}\")\n",
        "print(f\"Division of A and B is: {A/B}\")\n",
        "print(f\"Square of A is: {A**A} and Square of B is: {B**B}\")\n",
        "print(f\"A Square B is: {A**B}\")"
      ],
      "metadata": {
        "colab": {
          "base_uri": "https://localhost:8080/"
        },
        "id": "SrAVdRO8jyaT",
        "outputId": "12f61f1c-6117-4915-f1b9-fd13e8217be4"
      },
      "execution_count": 33,
      "outputs": [
        {
          "output_type": "stream",
          "name": "stdout",
          "text": [
            "Enter value of A: 10\n",
            "Enter value of B: 2\n",
            "Sum of A and B is: 12\n",
            "Multification of A and B is: 20\n",
            "Division of A and B is: 5.0\n",
            "Square of A is: 10000000000 and Square of B is: 4\n",
            "A Square B is: 100\n"
          ]
        }
      ]
    },
    {
      "cell_type": "markdown",
      "source": [
        "# 3. How many reserve keywords are there in python and why we should not use them as a variable name."
      ],
      "metadata": {
        "id": "rJvbT57Rj8WE"
      }
    },
    {
      "cell_type": "code",
      "source": [
        "help(\"keywords\")"
      ],
      "metadata": {
        "colab": {
          "base_uri": "https://localhost:8080/"
        },
        "id": "Z-kvsdUUj96O",
        "outputId": "8ac9f91e-c3bc-496b-aa48-72decd30cd1b"
      },
      "execution_count": 27,
      "outputs": [
        {
          "output_type": "stream",
          "name": "stdout",
          "text": [
            "\n",
            "Here is a list of the Python keywords.  Enter any keyword to get more help.\n",
            "\n",
            "False               class               from                or\n",
            "None                continue            global              pass\n",
            "True                def                 if                  raise\n",
            "and                 del                 import              return\n",
            "as                  elif                in                  try\n",
            "assert              else                is                  while\n",
            "async               except              lambda              with\n",
            "await               finally             nonlocal            yield\n",
            "break               for                 not                 \n",
            "\n"
          ]
        }
      ]
    },
    {
      "cell_type": "markdown",
      "source": [
        "  * Reserved words are case-sensitive and must be used exactly as shown. They are all \n",
        "entirely lowercase, except for False, None, and True.\n",
        "  * The keyword cannot be used as an identifier, function, and variable name.(keywords have predefined meanings we shoud not change the meaning)"
      ],
      "metadata": {
        "id": "F8P9Fccaxkcd"
      }
    },
    {
      "cell_type": "markdown",
      "source": [
        "#4. Create email ids with the user inputs. in the following format - lastname.firstname@gmail.com"
      ],
      "metadata": {
        "id": "6rCVpyFKkGgX"
      }
    },
    {
      "cell_type": "markdown",
      "source": [
        "## Method **1**"
      ],
      "metadata": {
        "id": "3gdRoerRvWQa"
      }
    },
    {
      "cell_type": "code",
      "source": [
        "firstName, middleName, sirName = \"sridhar\", \"reddy\", \"gogu\"\n",
        "print(f\"{firstName}.{sirName}@gmail.com\")"
      ],
      "metadata": {
        "colab": {
          "base_uri": "https://localhost:8080/"
        },
        "id": "uVcGRmJNkIOG",
        "outputId": "3038cbb4-0b86-4336-c793-b9187f91c8fa"
      },
      "execution_count": 21,
      "outputs": [
        {
          "output_type": "stream",
          "name": "stdout",
          "text": [
            "sridhar.gogu@gmail.com\n"
          ]
        }
      ]
    },
    {
      "cell_type": "markdown",
      "source": [
        "# Method 2"
      ],
      "metadata": {
        "id": "W6d4AilivaTR"
      }
    },
    {
      "cell_type": "code",
      "source": [
        "# creating email IDs with the user input\n",
        "\n",
        "firstname = input(\"First Name: \") \n",
        "middlename = input(\"Middle Name: \") \n",
        "lastname = input(\"Last Name: \") \n",
        "\n",
        "print(f\"\"\"\n",
        "Email ID of {firstname} is: {lastname}.{firstname}@gmail.com\n",
        "\"\"\")"
      ],
      "metadata": {
        "colab": {
          "base_uri": "https://localhost:8080/"
        },
        "id": "SeSy3XBOlGLJ",
        "outputId": "9fa9acbd-2500-4bcf-db04-fd09ed20bef6"
      },
      "execution_count": 25,
      "outputs": [
        {
          "output_type": "stream",
          "name": "stdout",
          "text": [
            "First Name: sridhar\n",
            "Middle Name: reddy\n",
            "Last Name: gogu\n",
            "\n",
            "Email ID of sridhar is: gogu.sridhar@gmail.com\n",
            "\n"
          ]
        }
      ]
    },
    {
      "cell_type": "markdown",
      "source": [
        "#5. Try to print the following lines -\n",
        "\n",
        "\n",
        "*  Hi I'm Sunny\n",
        "*  My address is 22\\3\n",
        "*  I earn 20$ daily.\n",
        "\n",
        "\n",
        "\n"
      ],
      "metadata": {
        "id": "q5VfpCB6lGj0"
      }
    },
    {
      "cell_type": "code",
      "source": [
        "print(\"\"\"Hi I'm Sunny\n",
        "My address is 22\\3\n",
        "I earn 20$ daily\"\"\")"
      ],
      "metadata": {
        "colab": {
          "base_uri": "https://localhost:8080/"
        },
        "id": "0Rfd_ewnl9Lt",
        "outputId": "733c6e74-1645-4535-d127-9093ce7b2006"
      },
      "execution_count": 20,
      "outputs": [
        {
          "output_type": "stream",
          "name": "stdout",
          "text": [
            "Hi I'm Sunny\n",
            "My address is 22\u0003\n",
            "I earn 20$ daily\n"
          ]
        }
      ]
    },
    {
      "cell_type": "markdown",
      "source": [
        "# 6.Take user input (name, address, date of birth etc) to fill a form for your college and print their email IDs"
      ],
      "metadata": {
        "id": "NkC7Hp7jl-A9"
      }
    },
    {
      "cell_type": "code",
      "source": [
        "# printing email ID of the user\n",
        "\n",
        "name = input(\"Name: \") # always gives you string values\n",
        "address = input(\"Address: \")\n",
        "year_of_birth = input(\"year_of_birth: \") # convert this into integer\n",
        "email_id = input(\"Email ID: \")\n",
        "\n",
        "print(f\"\"\"\n",
        "My name is: {name}\n",
        "I am living at: {address}\n",
        "Email ID of {name} is: {email_id}\n",
        "\"\"\")"
      ],
      "metadata": {
        "colab": {
          "base_uri": "https://localhost:8080/"
        },
        "id": "eIAq23K3mCEA",
        "outputId": "8105060f-90fb-4aad-932b-0a20db0f364c"
      },
      "execution_count": 10,
      "outputs": [
        {
          "output_type": "stream",
          "name": "stdout",
          "text": [
            "Name: Sridhar\n",
            "Address: Hyderabad\n",
            "year_of_birth: 1990\n",
            "Email ID: sridhar@gmail.com\n",
            "\n",
            "My name is: Sridhar\n",
            "I am living at: Hyderabad\n",
            "Email ID of Sridhar is: sridhar@gmail.com\n",
            "\n"
          ]
        }
      ]
    },
    {
      "cell_type": "markdown",
      "source": [
        "# 7. Convert the following -\n",
        "* \"22.4\" into 22\n",
        "* \"22\" into complex no."
      ],
      "metadata": {
        "id": "4RMtiD6Wlelx"
      }
    },
    {
      "cell_type": "code",
      "source": [
        "# String to integer\n",
        "x = \"22\"\n",
        "print(f\"data type before: {type(x)}, value of x: {x}\")\n",
        "x = int(x)\n",
        "print(f\"data type after: {type(x)}, value of x: {x}\")"
      ],
      "metadata": {
        "colab": {
          "base_uri": "https://localhost:8080/"
        },
        "id": "Tnp4q49KmA_J",
        "outputId": "eaa05c40-644c-45db-eca5-d083a1e2c284"
      },
      "execution_count": 11,
      "outputs": [
        {
          "output_type": "stream",
          "name": "stdout",
          "text": [
            "data type before: <class 'str'>, value of x: 22\n",
            "data type after: <class 'int'>, value of x: 22\n"
          ]
        }
      ]
    },
    {
      "cell_type": "code",
      "source": [
        "# String to complex no.\n",
        "x = \"2 + 5j\"\n",
        "print(f\"data type before: {type(x)}, value of x: {x}\")\n",
        "x = x.replace(\" \", \"\") # will do nothing if unneeded\n",
        "y = complex(x)\n",
        "print(f\"data type after: {type(y)}, value of x: {y}\")"
      ],
      "metadata": {
        "colab": {
          "base_uri": "https://localhost:8080/"
        },
        "id": "jXM3KzhRltQM",
        "outputId": "6d2e41ba-1d1d-43bf-dc9c-3c8531048ce0"
      },
      "execution_count": 19,
      "outputs": [
        {
          "output_type": "stream",
          "name": "stdout",
          "text": [
            "data type before: <class 'str'>, value of x: 2 + 5j\n",
            "data type after: <class 'complex'>, value of x: (2+5j)\n"
          ]
        }
      ]
    }
  ]
}